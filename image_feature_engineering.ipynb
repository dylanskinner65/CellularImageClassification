{
 "cells": [
  {
   "cell_type": "code",
   "execution_count": 1,
   "metadata": {},
   "outputs": [],
   "source": [
    "# Import stuff\n",
    "import matplotlib.pyplot as plt\n",
    "from skimage import exposure, io\n",
    "from PIL import Image\n",
    "from scipy.stats import norm\n",
    "from torchvision import transforms"
   ]
  },
  {
   "cell_type": "code",
   "execution_count": 7,
   "metadata": {},
   "outputs": [],
   "source": [
    "import image_dataset"
   ]
  },
  {
   "cell_type": "code",
   "execution_count": 12,
   "metadata": {},
   "outputs": [],
   "source": [
    "train_dataset = image_dataset.ImageDataset(\n",
    "        train=True, apply_equalize=True, transform=transforms.ToTensor())"
   ]
  },
  {
   "cell_type": "code",
   "execution_count": 13,
   "metadata": {},
   "outputs": [
    {
     "data": {
      "text/plain": [
       "(tensor([[[0.3977, 0.3388, 0.3093,  ..., 0.1979, 0.2175, 0.2568],\n",
       "          [0.3879, 0.3584, 0.3290,  ..., 0.1783, 0.1881, 0.2175],\n",
       "          [0.3780, 0.3682, 0.3682,  ..., 0.1979, 0.1979, 0.1979],\n",
       "          ...,\n",
       "          [0.1356, 0.1552, 0.2067,  ..., 0.1690, 0.1788, 0.1886],\n",
       "          [0.1356, 0.1552, 0.1969,  ..., 0.1493, 0.1591, 0.1493],\n",
       "          [0.2362, 0.1675, 0.1871,  ..., 0.1395, 0.1493, 0.1493]]],\n",
       "        dtype=torch.float64),\n",
       " 0)"
      ]
     },
     "execution_count": 13,
     "metadata": {},
     "output_type": "execute_result"
    }
   ],
   "source": [
    "train_dataset[0]"
   ]
  },
  {
   "cell_type": "code",
   "execution_count": 5,
   "metadata": {},
   "outputs": [
    {
     "name": "stdout",
     "output_type": "stream",
     "text": [
      "(512, 512)\n",
      "(512, 512)\n",
      "torch.float64\n"
     ]
    }
   ],
   "source": [
    "image = Image.open('data/train/HEPG2-01_1_B02_w6.png')\n",
    "import numpy as np\n",
    "\n",
    "image = np.asarray(image)/255.0\n",
    "print(image.shape)\n",
    "image1 = exposure.equalize_adapthist(image, clip_limit=0.01)\n",
    "print(image1.shape)\n",
    "t = transforms.ToTensor()(image1)\n",
    "\n",
    "print(t.dtype)\n"
   ]
  },
  {
   "cell_type": "code",
   "execution_count": 50,
   "metadata": {},
   "outputs": [
    {
     "ename": "TypeError",
     "evalue": "unsupported operand type(s) for /: 'PngImageFile' and 'float'",
     "output_type": "error",
     "traceback": [
      "\u001b[0;31m---------------------------------------------------------------------------\u001b[0m",
      "\u001b[0;31mTypeError\u001b[0m                                 Traceback (most recent call last)",
      "\u001b[0;32m/var/folders/4d/s5cpw8t92xbf0b9gw8j7ny2m0000gn/T/ipykernel_87171/1039868801.py\u001b[0m in \u001b[0;36m<module>\u001b[0;34m\u001b[0m\n\u001b[1;32m      2\u001b[0m \u001b[0;31m# image = io.imread('data/train/HEPG2-01_1_B02_w6.png', as_gray=True)\u001b[0m\u001b[0;34m\u001b[0m\u001b[0;34m\u001b[0m\u001b[0;34m\u001b[0m\u001b[0m\n\u001b[1;32m      3\u001b[0m \u001b[0mimage\u001b[0m \u001b[0;34m=\u001b[0m \u001b[0mImage\u001b[0m\u001b[0;34m.\u001b[0m\u001b[0mopen\u001b[0m\u001b[0;34m(\u001b[0m\u001b[0;34m'data/train/HEPG2-01_1_B02_w6.png'\u001b[0m\u001b[0;34m)\u001b[0m\u001b[0;34m\u001b[0m\u001b[0;34m\u001b[0m\u001b[0m\n\u001b[0;32m----> 4\u001b[0;31m \u001b[0mimage\u001b[0m \u001b[0;34m=\u001b[0m \u001b[0mimage\u001b[0m\u001b[0;34m/\u001b[0m\u001b[0;36m255.0\u001b[0m  \u001b[0;31m# Normalize the image\u001b[0m\u001b[0;34m\u001b[0m\u001b[0;34m\u001b[0m\u001b[0m\n\u001b[0m\u001b[1;32m      5\u001b[0m \u001b[0;34m\u001b[0m\u001b[0m\n\u001b[1;32m      6\u001b[0m \u001b[0;31m# Get means and std\u001b[0m\u001b[0;34m\u001b[0m\u001b[0;34m\u001b[0m\u001b[0;34m\u001b[0m\u001b[0m\n",
      "\u001b[0;31mTypeError\u001b[0m: unsupported operand type(s) for /: 'PngImageFile' and 'float'"
     ]
    }
   ],
   "source": [
    "# Read the image\n",
    "# image = io.imread('data/train/HEPG2-01_1_B02_w6.png', as_gray=True)\n",
    "image = Image.open('data/train/HEPG2-01_1_B02_w6.png')\n",
    "# image = image/255.0  # Normalize the image\n",
    "\n",
    "# Get means and std\n",
    "means = [image.mean()]\n",
    "stds = [image.std()]\n",
    "\n",
    "# print(f'Originial image    max,  min: {image.max()}, {image.min().round(3)}')\n",
    "# print(f'                   mean, std: {image.mean().round(3)}, {image.std().round(3)}')\n",
    "\n",
    "\n",
    "# Apply Adaptive Histogram Equalization (similar to CLAHE)\n",
    "clahe_image = exposure.equalize_adapthist(image, clip_limit=0.03)\n",
    "\n",
    "# Display the original and enhanced images\n",
    "fig, axes = plt.subplots(2, 2, figsize=(10, 6), dpi=150)\n",
    "\n",
    "axes[0, 0].imshow(image, cmap='gray')\n",
    "axes[0, 0].set_title('Original Image')\n",
    "axes[0, 0].axis('off')\n",
    "\n",
    "clips = [0.01, 0.03, 0.05]\n",
    "\n",
    "row = 2\n",
    "col = 2\n",
    "r, c = 0, 1\n",
    "for i in range(1, 4):\n",
    "    clahe_image = exposure.equalize_adapthist(image, clip_limit=clips[i-1])\n",
    "    # print(f'Clahe Image ({clips[i-1]}) max,  min: {clahe_image.max()}, {clahe_image.min()}')\n",
    "    # print(f'                   mean, std: {clahe_image.mean().round(3)}, {clahe_image.std().round(3)}')\n",
    "    \n",
    "    means.append(clahe_image.mean())\n",
    "    stds.append(clahe_image.std())\n",
    "    \n",
    "    axes[r, c].axis('off')\n",
    "    axes[r, c].imshow(clahe_image, cmap='gray')\n",
    "    axes[r, c].set_title(f'CLAHE Enhanced Image: clip = {clips[i-1]}')\n",
    "    \n",
    "    c += 1\n",
    "    if c == col:\n",
    "        c = 0\n",
    "        r += 1\n",
    "    \n",
    "# ax[1].imshow(clahe_image, cmap='gray')\n",
    "# ax[1].set_title('CLAHE Enhanced Image')\n",
    "plt.tight_layout()\n",
    "plt.show()\n",
    "\n",
    "\n",
    "# Plot normal dists for each image.\n",
    "types = ['Original', 'CLAHE 0.01', 'CLAHE 0.03', 'CLAHE 0.05']\n",
    "plt.figure(figsize=(6, 4), dpi=150)\n",
    "for i, ms in enumerate(zip(means, stds)):\n",
    "    x = np.linspace(ms[0] - 3*ms[1], ms[0] + 3*ms[1], 100)\n",
    "    plt.plot(x, norm.pdf(x, ms[0], ms[1]), label=f'{types[i]}')\n",
    "plt.legend()\n",
    "plt.title('Normal Distributions')\n",
    "plt.show()"
   ]
  },
  {
   "cell_type": "code",
   "execution_count": 15,
   "metadata": {},
   "outputs": [
    {
     "name": "stdout",
     "output_type": "stream",
     "text": [
      "Contrast: 16.296901755136986\n",
      "Homogeneity: 0.3428639009000686\n",
      "Energy: 0.04404389959794382\n",
      "Correlation: 0.9668623161111469\n"
     ]
    },
    {
     "name": "stderr",
     "output_type": "stream",
     "text": [
      "/Users/dylanskinner/opt/anaconda3/envs/acme1/lib/python3.7/site-packages/skimage/feature/__init__.py:35: skimage_deprecation: Function ``greycomatrix`` is deprecated and will be removed in version 1.0. Use ``skimage.feature.graycomatrix`` instead.\n",
      "  removed_version='1.0')\n",
      "/Users/dylanskinner/opt/anaconda3/envs/acme1/lib/python3.7/site-packages/skimage/feature/__init__.py:42: skimage_deprecation: Function ``greycoprops`` is deprecated and will be removed in version 1.0. Use ``skimage.feature.graycoprops`` instead.\n",
      "  removed_version='1.0')\n",
      "/Users/dylanskinner/opt/anaconda3/envs/acme1/lib/python3.7/site-packages/skimage/feature/__init__.py:42: skimage_deprecation: Function ``greycoprops`` is deprecated and will be removed in version 1.0. Use ``skimage.feature.graycoprops`` instead.\n",
      "  removed_version='1.0')\n",
      "/Users/dylanskinner/opt/anaconda3/envs/acme1/lib/python3.7/site-packages/skimage/feature/__init__.py:42: skimage_deprecation: Function ``greycoprops`` is deprecated and will be removed in version 1.0. Use ``skimage.feature.graycoprops`` instead.\n",
      "  removed_version='1.0')\n",
      "/Users/dylanskinner/opt/anaconda3/envs/acme1/lib/python3.7/site-packages/skimage/feature/__init__.py:42: skimage_deprecation: Function ``greycoprops`` is deprecated and will be removed in version 1.0. Use ``skimage.feature.graycoprops`` instead.\n",
      "  removed_version='1.0')\n"
     ]
    }
   ],
   "source": [
    "import numpy as np\n",
    "from skimage.feature import greycomatrix, greycoprops\n",
    "from skimage import data\n",
    "\n",
    "# Load a sample image\n",
    "image = io.imread('data/train/HEPG2-01_1_B02_w6.png', as_gray=True)\n",
    "\n",
    "# Specify the offset (spatial relationship)\n",
    "offset = (1, 0)\n",
    "\n",
    "# Calculate the GLCM\n",
    "glcm = greycomatrix(image, distances=[1], angles=[0], symmetric=True, normed=True)\n",
    "\n",
    "# Extract GLCM features (contrast, homogeneity, energy, correlation)\n",
    "contrast = greycoprops(glcm, 'contrast')[0, 0]\n",
    "homogeneity = greycoprops(glcm, 'homogeneity')[0, 0]\n",
    "energy = greycoprops(glcm, 'energy')[0, 0]\n",
    "correlation = greycoprops(glcm, 'correlation')[0, 0]\n",
    "\n",
    "print(f\"Contrast: {contrast}\")\n",
    "print(f\"Homogeneity: {homogeneity}\")\n",
    "print(f\"Energy: {energy}\")\n",
    "print(f\"Correlation: {correlation}\")\n"
   ]
  }
 ],
 "metadata": {
  "kernelspec": {
   "display_name": "acme1",
   "language": "python",
   "name": "python3"
  },
  "language_info": {
   "codemirror_mode": {
    "name": "ipython",
    "version": 3
   },
   "file_extension": ".py",
   "mimetype": "text/x-python",
   "name": "python",
   "nbconvert_exporter": "python",
   "pygments_lexer": "ipython3",
   "version": "3.7.16"
  }
 },
 "nbformat": 4,
 "nbformat_minor": 2
}
